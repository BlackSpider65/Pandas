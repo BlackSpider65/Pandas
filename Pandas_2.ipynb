{
 "cells": [
  {
   "cell_type": "markdown",
   "id": "7118f6b1",
   "metadata": {},
   "source": [
    "# Question No : 01"
   ]
  },
  {
   "cell_type": "markdown",
   "id": "40bcd8c5",
   "metadata": {},
   "source": [
    "## List any five functions of the pandas library with execution."
   ]
  },
  {
   "cell_type": "code",
   "execution_count": 1,
   "id": "8753f9f7",
   "metadata": {},
   "outputs": [
    {
     "data": {
      "text/html": [
       "<div>\n",
       "<style scoped>\n",
       "    .dataframe tbody tr th:only-of-type {\n",
       "        vertical-align: middle;\n",
       "    }\n",
       "\n",
       "    .dataframe tbody tr th {\n",
       "        vertical-align: top;\n",
       "    }\n",
       "\n",
       "    .dataframe thead th {\n",
       "        text-align: right;\n",
       "    }\n",
       "</style>\n",
       "<table border=\"1\" class=\"dataframe\">\n",
       "  <thead>\n",
       "    <tr style=\"text-align: right;\">\n",
       "      <th></th>\n",
       "      <th>A</th>\n",
       "      <th>B</th>\n",
       "      <th>C</th>\n",
       "    </tr>\n",
       "  </thead>\n",
       "  <tbody>\n",
       "    <tr>\n",
       "      <th>0</th>\n",
       "      <td>1</td>\n",
       "      <td>4</td>\n",
       "      <td>1</td>\n",
       "    </tr>\n",
       "    <tr>\n",
       "      <th>1</th>\n",
       "      <td>2</td>\n",
       "      <td>5</td>\n",
       "      <td>4</td>\n",
       "    </tr>\n",
       "    <tr>\n",
       "      <th>2</th>\n",
       "      <td>3</td>\n",
       "      <td>6</td>\n",
       "      <td>5</td>\n",
       "    </tr>\n",
       "    <tr>\n",
       "      <th>3</th>\n",
       "      <td>4</td>\n",
       "      <td>7</td>\n",
       "      <td>9</td>\n",
       "    </tr>\n",
       "  </tbody>\n",
       "</table>\n",
       "</div>"
      ],
      "text/plain": [
       "   A  B  C\n",
       "0  1  4  1\n",
       "1  2  5  4\n",
       "2  3  6  5\n",
       "3  4  7  9"
      ]
     },
     "execution_count": 1,
     "metadata": {},
     "output_type": "execute_result"
    }
   ],
   "source": [
    "import pandas as pd\n",
    "\n",
    "data = pd.DataFrame({'A':[1,2,3,4],'B':[4,5,6,7],'C':[1,4,5,9]})\n",
    "data"
   ]
  },
  {
   "cell_type": "code",
   "execution_count": 2,
   "id": "8a4a3881",
   "metadata": {},
   "outputs": [
    {
     "data": {
      "text/html": [
       "<div>\n",
       "<style scoped>\n",
       "    .dataframe tbody tr th:only-of-type {\n",
       "        vertical-align: middle;\n",
       "    }\n",
       "\n",
       "    .dataframe tbody tr th {\n",
       "        vertical-align: top;\n",
       "    }\n",
       "\n",
       "    .dataframe thead th {\n",
       "        text-align: right;\n",
       "    }\n",
       "</style>\n",
       "<table border=\"1\" class=\"dataframe\">\n",
       "  <thead>\n",
       "    <tr style=\"text-align: right;\">\n",
       "      <th></th>\n",
       "      <th>A</th>\n",
       "      <th>B</th>\n",
       "      <th>C</th>\n",
       "    </tr>\n",
       "  </thead>\n",
       "  <tbody>\n",
       "    <tr>\n",
       "      <th>0</th>\n",
       "      <td>1</td>\n",
       "      <td>4</td>\n",
       "      <td>1</td>\n",
       "    </tr>\n",
       "  </tbody>\n",
       "</table>\n",
       "</div>"
      ],
      "text/plain": [
       "   A  B  C\n",
       "0  1  4  1"
      ]
     },
     "execution_count": 2,
     "metadata": {},
     "output_type": "execute_result"
    }
   ],
   "source": [
    "data.head(1)  # head() function"
   ]
  },
  {
   "cell_type": "code",
   "execution_count": 3,
   "id": "88a4cf6f",
   "metadata": {},
   "outputs": [
    {
     "data": {
      "text/html": [
       "<div>\n",
       "<style scoped>\n",
       "    .dataframe tbody tr th:only-of-type {\n",
       "        vertical-align: middle;\n",
       "    }\n",
       "\n",
       "    .dataframe tbody tr th {\n",
       "        vertical-align: top;\n",
       "    }\n",
       "\n",
       "    .dataframe thead th {\n",
       "        text-align: right;\n",
       "    }\n",
       "</style>\n",
       "<table border=\"1\" class=\"dataframe\">\n",
       "  <thead>\n",
       "    <tr style=\"text-align: right;\">\n",
       "      <th></th>\n",
       "      <th>A</th>\n",
       "      <th>B</th>\n",
       "      <th>C</th>\n",
       "    </tr>\n",
       "  </thead>\n",
       "  <tbody>\n",
       "    <tr>\n",
       "      <th>3</th>\n",
       "      <td>4</td>\n",
       "      <td>7</td>\n",
       "      <td>9</td>\n",
       "    </tr>\n",
       "  </tbody>\n",
       "</table>\n",
       "</div>"
      ],
      "text/plain": [
       "   A  B  C\n",
       "3  4  7  9"
      ]
     },
     "execution_count": 3,
     "metadata": {},
     "output_type": "execute_result"
    }
   ],
   "source": [
    "data.tail(1) # tail() function"
   ]
  },
  {
   "cell_type": "code",
   "execution_count": 4,
   "id": "3c1f7695",
   "metadata": {},
   "outputs": [
    {
     "data": {
      "text/html": [
       "<div>\n",
       "<style scoped>\n",
       "    .dataframe tbody tr th:only-of-type {\n",
       "        vertical-align: middle;\n",
       "    }\n",
       "\n",
       "    .dataframe tbody tr th {\n",
       "        vertical-align: top;\n",
       "    }\n",
       "\n",
       "    .dataframe thead th {\n",
       "        text-align: right;\n",
       "    }\n",
       "</style>\n",
       "<table border=\"1\" class=\"dataframe\">\n",
       "  <thead>\n",
       "    <tr style=\"text-align: right;\">\n",
       "      <th></th>\n",
       "      <th>A</th>\n",
       "      <th>B</th>\n",
       "      <th>C</th>\n",
       "    </tr>\n",
       "  </thead>\n",
       "  <tbody>\n",
       "    <tr>\n",
       "      <th>count</th>\n",
       "      <td>4.000000</td>\n",
       "      <td>4.000000</td>\n",
       "      <td>4.000000</td>\n",
       "    </tr>\n",
       "    <tr>\n",
       "      <th>mean</th>\n",
       "      <td>2.500000</td>\n",
       "      <td>5.500000</td>\n",
       "      <td>4.750000</td>\n",
       "    </tr>\n",
       "    <tr>\n",
       "      <th>std</th>\n",
       "      <td>1.290994</td>\n",
       "      <td>1.290994</td>\n",
       "      <td>3.304038</td>\n",
       "    </tr>\n",
       "    <tr>\n",
       "      <th>min</th>\n",
       "      <td>1.000000</td>\n",
       "      <td>4.000000</td>\n",
       "      <td>1.000000</td>\n",
       "    </tr>\n",
       "    <tr>\n",
       "      <th>25%</th>\n",
       "      <td>1.750000</td>\n",
       "      <td>4.750000</td>\n",
       "      <td>3.250000</td>\n",
       "    </tr>\n",
       "    <tr>\n",
       "      <th>50%</th>\n",
       "      <td>2.500000</td>\n",
       "      <td>5.500000</td>\n",
       "      <td>4.500000</td>\n",
       "    </tr>\n",
       "    <tr>\n",
       "      <th>75%</th>\n",
       "      <td>3.250000</td>\n",
       "      <td>6.250000</td>\n",
       "      <td>6.000000</td>\n",
       "    </tr>\n",
       "    <tr>\n",
       "      <th>max</th>\n",
       "      <td>4.000000</td>\n",
       "      <td>7.000000</td>\n",
       "      <td>9.000000</td>\n",
       "    </tr>\n",
       "  </tbody>\n",
       "</table>\n",
       "</div>"
      ],
      "text/plain": [
       "              A         B         C\n",
       "count  4.000000  4.000000  4.000000\n",
       "mean   2.500000  5.500000  4.750000\n",
       "std    1.290994  1.290994  3.304038\n",
       "min    1.000000  4.000000  1.000000\n",
       "25%    1.750000  4.750000  3.250000\n",
       "50%    2.500000  5.500000  4.500000\n",
       "75%    3.250000  6.250000  6.000000\n",
       "max    4.000000  7.000000  9.000000"
      ]
     },
     "execution_count": 4,
     "metadata": {},
     "output_type": "execute_result"
    }
   ],
   "source": [
    "data.describe() # describe() function"
   ]
  },
  {
   "cell_type": "code",
   "execution_count": 8,
   "id": "5af63753",
   "metadata": {},
   "outputs": [
    {
     "name": "stdout",
     "output_type": "stream",
     "text": [
      "<class 'pandas.core.frame.DataFrame'>\n",
      "RangeIndex: 4 entries, 0 to 3\n",
      "Data columns (total 3 columns):\n",
      " #   Column  Non-Null Count  Dtype\n",
      "---  ------  --------------  -----\n",
      " 0   A       4 non-null      int64\n",
      " 1   B       4 non-null      int64\n",
      " 2   C       4 non-null      int64\n",
      "dtypes: int64(3)\n",
      "memory usage: 224.0 bytes\n"
     ]
    }
   ],
   "source": [
    "data.info()  # info() function"
   ]
  },
  {
   "cell_type": "code",
   "execution_count": 10,
   "id": "1fbecac5",
   "metadata": {},
   "outputs": [
    {
     "data": {
      "text/html": [
       "<div>\n",
       "<style scoped>\n",
       "    .dataframe tbody tr th:only-of-type {\n",
       "        vertical-align: middle;\n",
       "    }\n",
       "\n",
       "    .dataframe tbody tr th {\n",
       "        vertical-align: top;\n",
       "    }\n",
       "\n",
       "    .dataframe thead th {\n",
       "        text-align: right;\n",
       "    }\n",
       "</style>\n",
       "<table border=\"1\" class=\"dataframe\">\n",
       "  <thead>\n",
       "    <tr style=\"text-align: right;\">\n",
       "      <th></th>\n",
       "      <th>Name</th>\n",
       "      <th>Age</th>\n",
       "      <th>Gen</th>\n",
       "    </tr>\n",
       "  </thead>\n",
       "  <tbody>\n",
       "    <tr>\n",
       "      <th>0</th>\n",
       "      <td>Vishal</td>\n",
       "      <td>12</td>\n",
       "      <td>M</td>\n",
       "    </tr>\n",
       "    <tr>\n",
       "      <th>1</th>\n",
       "      <td>Shiva</td>\n",
       "      <td>32</td>\n",
       "      <td>F</td>\n",
       "    </tr>\n",
       "    <tr>\n",
       "      <th>2</th>\n",
       "      <td>Raj</td>\n",
       "      <td>45</td>\n",
       "      <td>F</td>\n",
       "    </tr>\n",
       "    <tr>\n",
       "      <th>3</th>\n",
       "      <td>Shukla</td>\n",
       "      <td>13</td>\n",
       "      <td>M</td>\n",
       "    </tr>\n",
       "  </tbody>\n",
       "</table>\n",
       "</div>"
      ],
      "text/plain": [
       "     Name  Age Gen\n",
       "0  Vishal   12   M\n",
       "1   Shiva   32   F\n",
       "2     Raj   45   F\n",
       "3  Shukla   13   M"
      ]
     },
     "execution_count": 10,
     "metadata": {},
     "output_type": "execute_result"
    }
   ],
   "source": [
    "pd.read_csv(\"Vishal.csv\")  # read_csv() function"
   ]
  },
  {
   "cell_type": "markdown",
   "id": "cdcf173b",
   "metadata": {},
   "source": [
    "# Question No : 02"
   ]
  },
  {
   "cell_type": "markdown",
   "id": "99c9547c",
   "metadata": {},
   "source": [
    "##  Given a Pandas DataFrame df with columns 'A', 'B', and 'C', write a Python function to re-index the DataFrame with a new index that starts from 1 and increments by 2 for each row."
   ]
  },
  {
   "cell_type": "code",
   "execution_count": 11,
   "id": "f8992bbc",
   "metadata": {},
   "outputs": [
    {
     "data": {
      "text/html": [
       "<div>\n",
       "<style scoped>\n",
       "    .dataframe tbody tr th:only-of-type {\n",
       "        vertical-align: middle;\n",
       "    }\n",
       "\n",
       "    .dataframe tbody tr th {\n",
       "        vertical-align: top;\n",
       "    }\n",
       "\n",
       "    .dataframe thead th {\n",
       "        text-align: right;\n",
       "    }\n",
       "</style>\n",
       "<table border=\"1\" class=\"dataframe\">\n",
       "  <thead>\n",
       "    <tr style=\"text-align: right;\">\n",
       "      <th></th>\n",
       "      <th>A</th>\n",
       "      <th>B</th>\n",
       "      <th>C</th>\n",
       "    </tr>\n",
       "  </thead>\n",
       "  <tbody>\n",
       "    <tr>\n",
       "      <th>1</th>\n",
       "      <td>1</td>\n",
       "      <td>4</td>\n",
       "      <td>7</td>\n",
       "    </tr>\n",
       "    <tr>\n",
       "      <th>3</th>\n",
       "      <td>2</td>\n",
       "      <td>5</td>\n",
       "      <td>5</td>\n",
       "    </tr>\n",
       "    <tr>\n",
       "      <th>5</th>\n",
       "      <td>3</td>\n",
       "      <td>6</td>\n",
       "      <td>6</td>\n",
       "    </tr>\n",
       "    <tr>\n",
       "      <th>7</th>\n",
       "      <td>4</td>\n",
       "      <td>8</td>\n",
       "      <td>1</td>\n",
       "    </tr>\n",
       "  </tbody>\n",
       "</table>\n",
       "</div>"
      ],
      "text/plain": [
       "   A  B  C\n",
       "1  1  4  7\n",
       "3  2  5  5\n",
       "5  3  6  6\n",
       "7  4  8  1"
      ]
     },
     "execution_count": 11,
     "metadata": {},
     "output_type": "execute_result"
    }
   ],
   "source": [
    "import pandas as pd\n",
    "\n",
    "data_1 = pd.DataFrame({\"A\":[1,2,3,4],\"B\":[4,5,6,8],\"C\":[7,5,6,1]},index=[1,3,5,7])\n",
    "data_1"
   ]
  },
  {
   "cell_type": "markdown",
   "id": "3eba5073",
   "metadata": {},
   "source": [
    "# Question No : 03"
   ]
  },
  {
   "cell_type": "markdown",
   "id": "2292b659",
   "metadata": {},
   "source": [
    "##  You have a Pandas DataFrame df with a column named 'Values'. Write a Python function that iterates over the DataFrame and calculates the sum of the first three values in the 'Values' column. The function should print the sum to the console."
   ]
  },
  {
   "cell_type": "code",
   "execution_count": 18,
   "id": "a16e9a4b",
   "metadata": {},
   "outputs": [
    {
     "data": {
      "text/html": [
       "<div>\n",
       "<style scoped>\n",
       "    .dataframe tbody tr th:only-of-type {\n",
       "        vertical-align: middle;\n",
       "    }\n",
       "\n",
       "    .dataframe tbody tr th {\n",
       "        vertical-align: top;\n",
       "    }\n",
       "\n",
       "    .dataframe thead th {\n",
       "        text-align: right;\n",
       "    }\n",
       "</style>\n",
       "<table border=\"1\" class=\"dataframe\">\n",
       "  <thead>\n",
       "    <tr style=\"text-align: right;\">\n",
       "      <th></th>\n",
       "      <th>Values</th>\n",
       "    </tr>\n",
       "  </thead>\n",
       "  <tbody>\n",
       "    <tr>\n",
       "      <th>0</th>\n",
       "      <td>1</td>\n",
       "    </tr>\n",
       "    <tr>\n",
       "      <th>1</th>\n",
       "      <td>2</td>\n",
       "    </tr>\n",
       "    <tr>\n",
       "      <th>2</th>\n",
       "      <td>3</td>\n",
       "    </tr>\n",
       "    <tr>\n",
       "      <th>3</th>\n",
       "      <td>4</td>\n",
       "    </tr>\n",
       "    <tr>\n",
       "      <th>4</th>\n",
       "      <td>5</td>\n",
       "    </tr>\n",
       "    <tr>\n",
       "      <th>5</th>\n",
       "      <td>7</td>\n",
       "    </tr>\n",
       "  </tbody>\n",
       "</table>\n",
       "</div>"
      ],
      "text/plain": [
       "   Values\n",
       "0       1\n",
       "1       2\n",
       "2       3\n",
       "3       4\n",
       "4       5\n",
       "5       7"
      ]
     },
     "execution_count": 18,
     "metadata": {},
     "output_type": "execute_result"
    }
   ],
   "source": [
    "import pandas as pd\n",
    "\n",
    "df = pd.DataFrame({\"Values\":[1,2,3,4,5,7]})\n",
    "df"
   ]
  },
  {
   "cell_type": "code",
   "execution_count": 16,
   "id": "580868c0",
   "metadata": {},
   "outputs": [
    {
     "data": {
      "text/html": [
       "<div>\n",
       "<style scoped>\n",
       "    .dataframe tbody tr th:only-of-type {\n",
       "        vertical-align: middle;\n",
       "    }\n",
       "\n",
       "    .dataframe tbody tr th {\n",
       "        vertical-align: top;\n",
       "    }\n",
       "\n",
       "    .dataframe thead th {\n",
       "        text-align: right;\n",
       "    }\n",
       "</style>\n",
       "<table border=\"1\" class=\"dataframe\">\n",
       "  <thead>\n",
       "    <tr style=\"text-align: right;\">\n",
       "      <th></th>\n",
       "      <th>Values</th>\n",
       "    </tr>\n",
       "  </thead>\n",
       "  <tbody>\n",
       "    <tr>\n",
       "      <th>0</th>\n",
       "      <td>1</td>\n",
       "    </tr>\n",
       "    <tr>\n",
       "      <th>1</th>\n",
       "      <td>2</td>\n",
       "    </tr>\n",
       "    <tr>\n",
       "      <th>2</th>\n",
       "      <td>3</td>\n",
       "    </tr>\n",
       "    <tr>\n",
       "      <th>3</th>\n",
       "      <td>4</td>\n",
       "    </tr>\n",
       "    <tr>\n",
       "      <th>4</th>\n",
       "      <td>5</td>\n",
       "    </tr>\n",
       "    <tr>\n",
       "      <th>5</th>\n",
       "      <td>7</td>\n",
       "    </tr>\n",
       "  </tbody>\n",
       "</table>\n",
       "</div>"
      ],
      "text/plain": [
       "   Values\n",
       "0       1\n",
       "1       2\n",
       "2       3\n",
       "3       4\n",
       "4       5\n",
       "5       7"
      ]
     },
     "execution_count": 16,
     "metadata": {},
     "output_type": "execute_result"
    }
   ],
   "source": [
    "df['Values']"
   ]
  },
  {
   "cell_type": "markdown",
   "id": "e9d8011d",
   "metadata": {},
   "source": [
    "# Question No : 04"
   ]
  },
  {
   "cell_type": "markdown",
   "id": "9de06ecb",
   "metadata": {},
   "source": [
    " ## Given a Pandas DataFrame df with a column 'Text', write a Python function to create a new column 'Word_Count' that contains the number of words in each row of the 'Text' column"
   ]
  },
  {
   "cell_type": "code",
   "execution_count": 3,
   "id": "1bc1d7c0",
   "metadata": {},
   "outputs": [
    {
     "name": "stdout",
     "output_type": "stream",
     "text": [
      "                 Text  Word_Count\n",
      "0       vishal shukla           2\n",
      "1              shukla           1\n",
      "2  my name is bijendr           4\n"
     ]
    }
   ],
   "source": [
    "import pandas as pd\n",
    "\n",
    "# crate a function\n",
    "def count_words(df):\n",
    "    df['Word_Count'] = df['Text'].apply(lambda x: len(str(x).split()))\n",
    "    return df\n",
    "\n",
    "# crate the dataframe \n",
    "df = pd.DataFrame({\"Text\":[\"vishal shukla\",\"shukla\",\"my name is bijendr\"]})\n",
    "df = count_words(df)\n",
    "print(df)"
   ]
  },
  {
   "cell_type": "markdown",
   "id": "8015ec74",
   "metadata": {},
   "source": [
    "# Question No : 05"
   ]
  },
  {
   "cell_type": "markdown",
   "id": "b02f712b",
   "metadata": {},
   "source": [
    "###  How are DataFrame.size() and DataFrame.shape() different?"
   ]
  },
  {
   "cell_type": "markdown",
   "id": "35ad25f4",
   "metadata": {},
   "source": [
    "* DataFrame.size: This attribute returns the total number of elements in the DataFrame, which is equal to the product of the number of rows and the number of columns. It provides the total count of elements in the DataFrame.\n",
    "\n",
    "* DataFrame.shape: This attribute returns a tuple representing the dimensions of the DataFrame. The tuple contains two elements: the number of rows and the number of columns, respectively. It provides the structure or shape of the DataFrame.\n"
   ]
  },
  {
   "cell_type": "code",
   "execution_count": 5,
   "id": "11757730",
   "metadata": {},
   "outputs": [
    {
     "data": {
      "text/html": [
       "<div>\n",
       "<style scoped>\n",
       "    .dataframe tbody tr th:only-of-type {\n",
       "        vertical-align: middle;\n",
       "    }\n",
       "\n",
       "    .dataframe tbody tr th {\n",
       "        vertical-align: top;\n",
       "    }\n",
       "\n",
       "    .dataframe thead th {\n",
       "        text-align: right;\n",
       "    }\n",
       "</style>\n",
       "<table border=\"1\" class=\"dataframe\">\n",
       "  <thead>\n",
       "    <tr style=\"text-align: right;\">\n",
       "      <th></th>\n",
       "      <th>A</th>\n",
       "      <th>B</th>\n",
       "      <th>C</th>\n",
       "    </tr>\n",
       "  </thead>\n",
       "  <tbody>\n",
       "    <tr>\n",
       "      <th>0</th>\n",
       "      <td>1</td>\n",
       "      <td>7</td>\n",
       "      <td>1</td>\n",
       "    </tr>\n",
       "    <tr>\n",
       "      <th>1</th>\n",
       "      <td>2</td>\n",
       "      <td>8</td>\n",
       "      <td>5</td>\n",
       "    </tr>\n",
       "    <tr>\n",
       "      <th>2</th>\n",
       "      <td>4</td>\n",
       "      <td>9</td>\n",
       "      <td>9</td>\n",
       "    </tr>\n",
       "    <tr>\n",
       "      <th>3</th>\n",
       "      <td>5</td>\n",
       "      <td>6</td>\n",
       "      <td>7</td>\n",
       "    </tr>\n",
       "  </tbody>\n",
       "</table>\n",
       "</div>"
      ],
      "text/plain": [
       "   A  B  C\n",
       "0  1  7  1\n",
       "1  2  8  5\n",
       "2  4  9  9\n",
       "3  5  6  7"
      ]
     },
     "execution_count": 5,
     "metadata": {},
     "output_type": "execute_result"
    }
   ],
   "source": [
    "# Example \n",
    "\n",
    "import pandas as pd\n",
    "\n",
    "data = {\"A\":[1,2,4,5],\"B\":[7,8,9,6],\"C\":[1,5,9,7]}\n",
    "data_f = pd.DataFrame(data)\n",
    "data_f"
   ]
  },
  {
   "cell_type": "code",
   "execution_count": 9,
   "id": "ecb62a2b",
   "metadata": {},
   "outputs": [
    {
     "name": "stdout",
     "output_type": "stream",
     "text": [
      "dataframe.size: 12\n"
     ]
    }
   ],
   "source": [
    "print(\"dataframe.size:\",data_f.size)"
   ]
  },
  {
   "cell_type": "code",
   "execution_count": 10,
   "id": "210829ea",
   "metadata": {},
   "outputs": [
    {
     "name": "stdout",
     "output_type": "stream",
     "text": [
      "dataframe.shape: (4, 3)\n"
     ]
    }
   ],
   "source": [
    "print(\"dataframe.shape:\",data_f.shape)"
   ]
  },
  {
   "cell_type": "markdown",
   "id": "712c84cc",
   "metadata": {},
   "source": [
    "* DataFrame.size: Total number of elements (rows * columns)\n",
    "\n",
    "* DataFrame.shape: Tuple containing (number of rows, number of columns)"
   ]
  },
  {
   "cell_type": "markdown",
   "id": "54d949a8",
   "metadata": {},
   "source": [
    "# Question No : 06"
   ]
  },
  {
   "cell_type": "markdown",
   "id": "02486304",
   "metadata": {},
   "source": [
    "###  Which function of pandas do we use to read an excel file?"
   ]
  },
  {
   "cell_type": "markdown",
   "id": "7e7aa816",
   "metadata": {},
   "source": [
    " We can use the read_excel() function to read data from an Excel file. For example-"
   ]
  },
  {
   "cell_type": "code",
   "execution_count": 21,
   "id": "1e78f423",
   "metadata": {},
   "outputs": [
    {
     "name": "stdout",
     "output_type": "stream",
     "text": [
      "   Unnamed: 0  V  F  H\n",
      "0           0  4  4  4\n",
      "1           1  7  5  2\n",
      "2           2  8  8  3\n",
      "3           3  9  9  6\n"
     ]
    }
   ],
   "source": [
    "import pandas as pd\n",
    "\n",
    "read_file = pd.read_excel(\"Vishal.xlsx\")\n",
    "print(read_file)"
   ]
  },
  {
   "cell_type": "markdown",
   "id": "520952f1",
   "metadata": {},
   "source": [
    "# Question No : 07"
   ]
  },
  {
   "cell_type": "markdown",
   "id": "efddb551",
   "metadata": {},
   "source": [
    "###  You have a Pandas DataFrame df that contains a column named 'Email' that contains email addresses in the format 'username@domain.com'. Write a Python function that creates a new column 'Username' in df that contains only the username part of each email address."
   ]
  },
  {
   "cell_type": "code",
   "execution_count": 26,
   "id": "4f431fbe",
   "metadata": {},
   "outputs": [
    {
     "name": "stdout",
     "output_type": "stream",
     "text": [
      "                   Email     Username\n",
      "0  bshukla2236@gmail.com  bshukla2236\n",
      "1         shiv@gmail.com         shiv\n",
      "2          Ram@gmail.com          Ram\n"
     ]
    }
   ],
   "source": [
    "import pandas as pd \n",
    "\n",
    "def new_column(x):\n",
    "    x['Username'] = x['Email'].str.split('@').str[0]\n",
    "    return x\n",
    "\n",
    "df = pd.DataFrame({\"Email\":['bshukla2236@gmail.com','shiv@gmail.com','Ram@gmail.com']})\n",
    "df = new_column(df)\n",
    "print(df)"
   ]
  },
  {
   "cell_type": "markdown",
   "id": "b1f8443d",
   "metadata": {},
   "source": [
    "# Question No : 08"
   ]
  },
  {
   "cell_type": "markdown",
   "id": "abff49da",
   "metadata": {},
   "source": [
    "###  You have a Pandas DataFrame df with columns 'A', 'B', and 'C'. Write a Python function that selects all rows where the value in column 'A' is greater than 5 and the value in column 'B' is less than 10. The function should return a new DataFrame that contains only the selected rows."
   ]
  },
  {
   "cell_type": "code",
   "execution_count": 2,
   "id": "8708fde4",
   "metadata": {},
   "outputs": [
    {
     "name": "stdout",
     "output_type": "stream",
     "text": [
      "   A  B  C\n",
      "3  8  8  1\n",
      "4  6  4  2\n"
     ]
    }
   ],
   "source": [
    "import pandas as pd \n",
    "\n",
    "# crate a function \n",
    "\n",
    "def fun(df):\n",
    "    sel_row = df[(df[\"A\"]>5) & (df[\"B\"]<10)]\n",
    "    return sel_row\n",
    "\n",
    "# crate a dataframe\n",
    "\n",
    "df = pd.DataFrame({\"A\":[1,2,3,8,6],\"B\":[11,14,3,8,4],\"C\":[4,5,6,1,2]})\n",
    "sel_df = fun(df)\n",
    "print(sel_df)"
   ]
  },
  {
   "cell_type": "markdown",
   "id": "0e89a96d",
   "metadata": {},
   "source": [
    "# Question No : 09"
   ]
  },
  {
   "cell_type": "markdown",
   "id": "6bbd863b",
   "metadata": {},
   "source": [
    "### Given a Pandas DataFrame df with a column 'Values', write a Python function to calculate the mean, median, and standard deviation of the values in the 'Values' column."
   ]
  },
  {
   "cell_type": "code",
   "execution_count": 3,
   "id": "fbfe65f1",
   "metadata": {},
   "outputs": [
    {
     "name": "stdout",
     "output_type": "stream",
     "text": [
      "The mean value is: 5.166666666666667\n",
      "The median value is: 5.5\n",
      "The standard deviation is: 2.48327740429189\n"
     ]
    }
   ],
   "source": [
    "import pandas as pd \n",
    "\n",
    "def calcu_fun(df):\n",
    "    col_values = df[\"Values\"]\n",
    "    mean_value = col_values.mean()\n",
    "    median_value = col_values.median()\n",
    "    stan_devia = col_values.std()\n",
    "    return mean_value, median_value, stan_devia\n",
    "\n",
    "df = pd.DataFrame({\"Values\":[1,4,7,8,5,6]})\n",
    "mean, median, standard_deviation = calcu_fun(df)\n",
    "print(f\"The mean value is: {mean}\")\n",
    "print(f\"The median value is: {median}\")\n",
    "print(f\"The standard deviation is: {standard_deviation}\")\n",
    "      \n",
    "    "
   ]
  },
  {
   "cell_type": "markdown",
   "id": "7c3eb544",
   "metadata": {},
   "source": [
    "# Question No : 10"
   ]
  },
  {
   "cell_type": "markdown",
   "id": "45261f3e",
   "metadata": {},
   "source": [
    "###  Given a Pandas DataFrame df with a column 'Sales' and a column 'Date', write a Python function to create a new column 'MovingAverage' that contains the moving average of the sales for the past 7 days for each row in the DataFrame. The moving average should be calculated using a window of size 7 and should include the current day."
   ]
  },
  {
   "cell_type": "code",
   "execution_count": 4,
   "id": "ab95e374",
   "metadata": {},
   "outputs": [
    {
     "name": "stdout",
     "output_type": "stream",
     "text": [
      "         Date  Sales  MovingAverage\n",
      "0  2024-01-01     10           10.0\n",
      "1  2024-01-02     15           12.5\n",
      "2  2024-01-03     20           15.0\n",
      "3  2024-01-04     25           17.5\n",
      "4  2024-01-05     30           20.0\n",
      "5  2024-01-06     35           22.5\n",
      "6  2024-01-07     40           25.0\n",
      "7  2024-01-08     45           30.0\n",
      "8  2024-01-09     50           35.0\n",
      "9  2024-01-10     55           40.0\n",
      "10 2024-01-11     60           45.0\n",
      "11 2024-01-12     65           50.0\n",
      "12 2024-01-13     70           55.0\n",
      "13 2024-01-14     75           60.0\n",
      "14 2024-01-15     80           65.0\n",
      "15 2024-01-16     85           70.0\n",
      "16 2024-01-17     90           75.0\n",
      "17 2024-01-18     95           80.0\n",
      "18 2024-01-19    100           85.0\n",
      "19 2024-01-20    105           90.0\n"
     ]
    }
   ],
   "source": [
    "import pandas as pd\n",
    "\n",
    "def calculate_moving_average(df):\n",
    "    df['Date'] = pd.to_datetime(df['Date'])\n",
    "    df.sort_values(by='Date', inplace=True)\n",
    "    df['MovingAverage'] = df['Sales'].rolling(window=7, min_periods=1).mean()\n",
    "    return df\n",
    "\n",
    "data = {'Date': pd.date_range(start='2024-01-01', periods=20),\n",
    "        'Sales': [10, 15, 20, 25, 30, 35, 40, 45, 50, 55, 60, 65, 70, 75, 80, 85, 90, 95, 100, 105]}\n",
    "df = pd.DataFrame(data)\n",
    "\n",
    "df = calculate_moving_average(df)\n",
    "print(df)\n"
   ]
  },
  {
   "cell_type": "markdown",
   "id": "29d1d585",
   "metadata": {},
   "source": [
    "# Question No : 11"
   ]
  },
  {
   "cell_type": "markdown",
   "id": "0ef1b58f",
   "metadata": {},
   "source": [
    "### You have a Pandas DataFrame df with a column 'Date'. Write a Python function that creates a new column 'Weekday' in the DataFrame. The 'Weekday' column should contain the weekday name (e.g. Monday, Tuesday) corresponding to each date in the 'Date' column."
   ]
  },
  {
   "cell_type": "code",
   "execution_count": 7,
   "id": "20828249",
   "metadata": {},
   "outputs": [
    {
     "name": "stdout",
     "output_type": "stream",
     "text": [
      "        Date    Weekday\n",
      "0 2024-01-01     Monday\n",
      "1 2024-01-02    Tuesday\n",
      "2 2024-01-03  Wednesday\n",
      "3 2024-01-04   Thursday\n",
      "4 2024-01-05     Friday\n"
     ]
    }
   ],
   "source": [
    "import pandas as pd\n",
    "\n",
    "def weekday_fun(x):\n",
    "    x[\"Date\"] = pd.to_datetime(df[\"Date\"])\n",
    "    x[\"Weekday\"] = x[\"Date\"].dt.strftime('%A')\n",
    "    return x\n",
    "\n",
    "data = {\"Date\":['2024-01-01','2024-01-02','2024-01-03','2024-01-04','2024-01-05']}\n",
    "df = pd.DataFrame(data)\n",
    "df = weekday_fun(df)\n",
    "print(df)"
   ]
  },
  {
   "cell_type": "markdown",
   "id": "f9a6728f",
   "metadata": {},
   "source": [
    "# Question No : 12"
   ]
  },
  {
   "cell_type": "markdown",
   "id": "2666ac83",
   "metadata": {},
   "source": [
    "###  Given a Pandas DataFrame df with a column 'Date' that contains timestamps, write a Python function to select all rows where the date is between '2023-01-01' and '2023-01-31."
   ]
  },
  {
   "cell_type": "code",
   "execution_count": 8,
   "id": "2032437e",
   "metadata": {},
   "outputs": [
    {
     "name": "stdout",
     "output_type": "stream",
     "text": [
      "         Date\n",
      "0  2023-01-01\n",
      "1  2023-01-02\n",
      "2  2023-01-03\n",
      "3  2023-01-04\n",
      "4  2023-01-05\n",
      "5  2023-01-06\n",
      "6  2023-01-07\n",
      "7  2023-01-08\n",
      "8  2023-01-09\n",
      "9  2023-01-10\n",
      "10 2023-01-11\n",
      "11 2023-01-12\n",
      "12 2023-01-13\n",
      "13 2023-01-14\n",
      "14 2023-01-15\n",
      "15 2023-01-16\n",
      "16 2023-01-17\n",
      "17 2023-01-18\n",
      "18 2023-01-19\n",
      "19 2023-01-20\n",
      "20 2023-01-21\n",
      "21 2023-01-22\n",
      "22 2023-01-23\n",
      "23 2023-01-24\n",
      "24 2023-01-25\n",
      "25 2023-01-26\n",
      "26 2023-01-27\n",
      "27 2023-01-28\n",
      "28 2023-01-29\n",
      "29 2023-01-30\n",
      "30 2023-01-31\n"
     ]
    }
   ],
   "source": [
    "import pandas as pd\n",
    "\n",
    "def select_rows_in_date_range(df, start_date, end_date):\n",
    "    df['Date'] = pd.to_datetime(df['Date'])\n",
    "    mask = (df['Date'] >= start_date) & (df['Date'] <= end_date)\n",
    "    selected_rows = df[mask]\n",
    "    return selected_rows\n",
    "\n",
    "data = {'Date': pd.date_range(start='2023-01-01', end='2023-02-28', freq='D')}\n",
    "df = pd.DataFrame(data)\n",
    "start_date = '2023-01-01'\n",
    "end_date = '2023-01-31'\n",
    "selected_df = select_rows_in_date_range(df, start_date, end_date)\n",
    "print(selected_df)"
   ]
  },
  {
   "cell_type": "markdown",
   "id": "edbf853b",
   "metadata": {},
   "source": [
    "# Question No : 13"
   ]
  },
  {
   "cell_type": "markdown",
   "id": "4196fef4",
   "metadata": {},
   "source": [
    "### To use the basic functions of pandas, what is the first and foremost necessary library that needs to be imported?"
   ]
  },
  {
   "cell_type": "markdown",
   "id": "aaa6829d",
   "metadata": {},
   "source": [
    "To use the basic functions of Pandas, the first and foremost necessary library that needs to be imported is pandas itself. You typically import it using the following convention:"
   ]
  },
  {
   "cell_type": "code",
   "execution_count": 9,
   "id": "1aa3b861",
   "metadata": {},
   "outputs": [],
   "source": [
    "import pandas as pd"
   ]
  },
  {
   "cell_type": "code",
   "execution_count": null,
   "id": "79d937e7",
   "metadata": {},
   "outputs": [],
   "source": []
  }
 ],
 "metadata": {
  "kernelspec": {
   "display_name": "Python 3 (ipykernel)",
   "language": "python",
   "name": "python3"
  },
  "language_info": {
   "codemirror_mode": {
    "name": "ipython",
    "version": 3
   },
   "file_extension": ".py",
   "mimetype": "text/x-python",
   "name": "python",
   "nbconvert_exporter": "python",
   "pygments_lexer": "ipython3",
   "version": "3.9.13"
  }
 },
 "nbformat": 4,
 "nbformat_minor": 5
}
