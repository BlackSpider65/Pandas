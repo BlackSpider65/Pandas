{
 "cells": [
  {
   "cell_type": "markdown",
   "id": "230704dc",
   "metadata": {},
   "source": [
    "# Question No : 01"
   ]
  },
  {
   "cell_type": "code",
   "execution_count": 2,
   "id": "ec880fde",
   "metadata": {},
   "outputs": [],
   "source": [
    "# Crate a pandas series\n",
    "\n",
    "import pandas as pd\n",
    "\n",
    "data = pd.Series([ 8, 15, 16, 23,40])"
   ]
  },
  {
   "cell_type": "code",
   "execution_count": 3,
   "id": "a17d0e0f",
   "metadata": {},
   "outputs": [
    {
     "data": {
      "text/plain": [
       "0     8\n",
       "1    15\n",
       "2    16\n",
       "3    23\n",
       "4    40\n",
       "dtype: int64"
      ]
     },
     "execution_count": 3,
     "metadata": {},
     "output_type": "execute_result"
    }
   ],
   "source": [
    "data"
   ]
  },
  {
   "cell_type": "code",
   "execution_count": 4,
   "id": "c6bc941f",
   "metadata": {},
   "outputs": [
    {
     "data": {
      "text/plain": [
       "pandas.core.series.Series"
      ]
     },
     "execution_count": 4,
     "metadata": {},
     "output_type": "execute_result"
    }
   ],
   "source": [
    "type(data)  # check the dtype of the data "
   ]
  },
  {
   "cell_type": "markdown",
   "id": "ead27857",
   "metadata": {},
   "source": [
    "# Question No : 02"
   ]
  },
  {
   "cell_type": "code",
   "execution_count": 6,
   "id": "e7876545",
   "metadata": {},
   "outputs": [],
   "source": [
    "list_data = list(range(1,11)) # crate a list"
   ]
  },
  {
   "cell_type": "code",
   "execution_count": 7,
   "id": "832f97d3",
   "metadata": {},
   "outputs": [
    {
     "data": {
      "text/plain": [
       "10"
      ]
     },
     "execution_count": 7,
     "metadata": {},
     "output_type": "execute_result"
    }
   ],
   "source": [
    "len(list_data)  # check the lenght of list_data"
   ]
  },
  {
   "cell_type": "code",
   "execution_count": 8,
   "id": "11ea9d74",
   "metadata": {},
   "outputs": [
    {
     "data": {
      "text/plain": [
       "0     1\n",
       "1     2\n",
       "2     3\n",
       "3     4\n",
       "4     5\n",
       "5     6\n",
       "6     7\n",
       "7     8\n",
       "8     9\n",
       "9    10\n",
       "dtype: int64"
      ]
     },
     "execution_count": 8,
     "metadata": {},
     "output_type": "execute_result"
    }
   ],
   "source": [
    "pd.Series(list_data)"
   ]
  },
  {
   "cell_type": "markdown",
   "id": "65dc354f",
   "metadata": {},
   "source": [
    "# Question No : 03"
   ]
  },
  {
   "cell_type": "code",
   "execution_count": 9,
   "id": "33a73651",
   "metadata": {},
   "outputs": [
    {
     "data": {
      "text/html": [
       "<div>\n",
       "<style scoped>\n",
       "    .dataframe tbody tr th:only-of-type {\n",
       "        vertical-align: middle;\n",
       "    }\n",
       "\n",
       "    .dataframe tbody tr th {\n",
       "        vertical-align: top;\n",
       "    }\n",
       "\n",
       "    .dataframe thead th {\n",
       "        text-align: right;\n",
       "    }\n",
       "</style>\n",
       "<table border=\"1\" class=\"dataframe\">\n",
       "  <thead>\n",
       "    <tr style=\"text-align: right;\">\n",
       "      <th></th>\n",
       "      <th>Name</th>\n",
       "      <th>Age</th>\n",
       "      <th>Gender</th>\n",
       "    </tr>\n",
       "  </thead>\n",
       "  <tbody>\n",
       "    <tr>\n",
       "      <th>0</th>\n",
       "      <td>Alice</td>\n",
       "      <td>25</td>\n",
       "      <td>Female</td>\n",
       "    </tr>\n",
       "    <tr>\n",
       "      <th>1</th>\n",
       "      <td>Bob</td>\n",
       "      <td>30</td>\n",
       "      <td>Male</td>\n",
       "    </tr>\n",
       "    <tr>\n",
       "      <th>2</th>\n",
       "      <td>Claire</td>\n",
       "      <td>27</td>\n",
       "      <td>Female</td>\n",
       "    </tr>\n",
       "  </tbody>\n",
       "</table>\n",
       "</div>"
      ],
      "text/plain": [
       "     Name  Age  Gender\n",
       "0   Alice   25  Female\n",
       "1     Bob   30    Male\n",
       "2  Claire   27  Female"
      ]
     },
     "execution_count": 9,
     "metadata": {},
     "output_type": "execute_result"
    }
   ],
   "source": [
    "# crate a DataFrame\n",
    "\n",
    "data_2 = pd.DataFrame({\"Name\":[\"Alice\",\"Bob\",\"Claire\"],\"Age\":[25,30,27],\"Gender\":[\"Female\",\"Male\",\"Female\"]})\n",
    "\n",
    "data_2"
   ]
  },
  {
   "cell_type": "markdown",
   "id": "c39633f1",
   "metadata": {},
   "source": [
    "# Question No : 04"
   ]
  },
  {
   "cell_type": "markdown",
   "id": "50db5ee8",
   "metadata": {},
   "source": [
    "Here are some key differences between DataFrame and Series:\n",
    "\n",
    "\n",
    "1) Dimensions:\n",
    "\n",
    "\n",
    "DataFrame: 2-dimensional.\n",
    "\n",
    "Series: 1-dimensional.\n",
    "\n",
    "\n",
    "2) Structure:\n",
    "\n",
    "\n",
    "DataFrame: Consists of multiple columns, each of which can hold different types of data.\n",
    "\n",
    "Series: Represents a single column of data.\n",
    "\n",
    "\n",
    "3) Indexing:\n",
    "\n",
    "\n",
    "DataFrame: Supports both row and column indexing.\n",
    "\n",
    "Series: Supports only one-dimensional indexing (similar to arrays or lists).\n",
    "\n",
    "\n",
    "4) Operations:\n",
    "\n",
    "\n",
    "DataFrame: Supports operations across both rows and columns, making it suitable for many data manipulation tasks.\n",
    "\n",
    "Series: Primarily used for operations within a single column, but can also be used in some broader operations when aligned with another Series or DataFrame.\n"
   ]
  },
  {
   "cell_type": "code",
   "execution_count": 10,
   "id": "2f0fdc4f",
   "metadata": {},
   "outputs": [],
   "source": [
    "# Example of Series\n",
    "\n",
    "ser_1 = pd.Series([1,2,3,4,5])"
   ]
  },
  {
   "cell_type": "code",
   "execution_count": 11,
   "id": "965e6a8f",
   "metadata": {},
   "outputs": [
    {
     "name": "stdout",
     "output_type": "stream",
     "text": [
      "0    1\n",
      "1    2\n",
      "2    3\n",
      "3    4\n",
      "4    5\n",
      "dtype: int64\n",
      "<class 'pandas.core.series.Series'>\n"
     ]
    }
   ],
   "source": [
    "print(ser_1)\n",
    "print(type(ser_1))"
   ]
  },
  {
   "cell_type": "code",
   "execution_count": 12,
   "id": "a3af86b4",
   "metadata": {},
   "outputs": [
    {
     "name": "stdout",
     "output_type": "stream",
     "text": [
      "<class 'pandas.core.frame.DataFrame'>\n"
     ]
    },
    {
     "data": {
      "text/html": [
       "<div>\n",
       "<style scoped>\n",
       "    .dataframe tbody tr th:only-of-type {\n",
       "        vertical-align: middle;\n",
       "    }\n",
       "\n",
       "    .dataframe tbody tr th {\n",
       "        vertical-align: top;\n",
       "    }\n",
       "\n",
       "    .dataframe thead th {\n",
       "        text-align: right;\n",
       "    }\n",
       "</style>\n",
       "<table border=\"1\" class=\"dataframe\">\n",
       "  <thead>\n",
       "    <tr style=\"text-align: right;\">\n",
       "      <th></th>\n",
       "      <th>A</th>\n",
       "      <th>B</th>\n",
       "    </tr>\n",
       "  </thead>\n",
       "  <tbody>\n",
       "    <tr>\n",
       "      <th>0</th>\n",
       "      <td>1</td>\n",
       "      <td>4</td>\n",
       "    </tr>\n",
       "    <tr>\n",
       "      <th>1</th>\n",
       "      <td>2</td>\n",
       "      <td>5</td>\n",
       "    </tr>\n",
       "    <tr>\n",
       "      <th>2</th>\n",
       "      <td>3</td>\n",
       "      <td>6</td>\n",
       "    </tr>\n",
       "    <tr>\n",
       "      <th>3</th>\n",
       "      <td>4</td>\n",
       "      <td>7</td>\n",
       "    </tr>\n",
       "  </tbody>\n",
       "</table>\n",
       "</div>"
      ],
      "text/plain": [
       "   A  B\n",
       "0  1  4\n",
       "1  2  5\n",
       "2  3  6\n",
       "3  4  7"
      ]
     },
     "execution_count": 12,
     "metadata": {},
     "output_type": "execute_result"
    }
   ],
   "source": [
    "# Example of DataFrame\n",
    "\n",
    "data_f = pd.DataFrame({\"A\":[1,2,3,4],\"B\":[4,5,6,7]})\n",
    "print(type(data_f))\n",
    "data_f"
   ]
  },
  {
   "cell_type": "markdown",
   "id": "ed2a1e39",
   "metadata": {},
   "source": [
    "# Question No : 05"
   ]
  },
  {
   "cell_type": "markdown",
   "id": "9b4a3daf",
   "metadata": {},
   "source": [
    "There are numerous functions available in pandas for data manipulation in a DataFrame. Some common functions include:\n",
    "\n",
    "1) head() and tail(): These functions allow you to view the first or last few rows of the DataFrame, respectively. They are useful for quickly inspecting the structure and content of the DataFrame.\n",
    "\n",
    "2) columns and index: These attributes allow you to access the column and index labels of the DataFrame, respectively.\n",
    "\n",
    "3) drop() and dropna(): These functions are used to remove rows or columns containing missing values (dropna()) or to drop specified rows or columns (drop()).\n"
   ]
  },
  {
   "cell_type": "code",
   "execution_count": 13,
   "id": "77661057",
   "metadata": {},
   "outputs": [
    {
     "data": {
      "text/html": [
       "<div>\n",
       "<style scoped>\n",
       "    .dataframe tbody tr th:only-of-type {\n",
       "        vertical-align: middle;\n",
       "    }\n",
       "\n",
       "    .dataframe tbody tr th {\n",
       "        vertical-align: top;\n",
       "    }\n",
       "\n",
       "    .dataframe thead th {\n",
       "        text-align: right;\n",
       "    }\n",
       "</style>\n",
       "<table border=\"1\" class=\"dataframe\">\n",
       "  <thead>\n",
       "    <tr style=\"text-align: right;\">\n",
       "      <th></th>\n",
       "      <th>Name</th>\n",
       "      <th>Age</th>\n",
       "      <th>Gender</th>\n",
       "    </tr>\n",
       "  </thead>\n",
       "  <tbody>\n",
       "    <tr>\n",
       "      <th>0</th>\n",
       "      <td>Alice</td>\n",
       "      <td>25</td>\n",
       "      <td>Female</td>\n",
       "    </tr>\n",
       "    <tr>\n",
       "      <th>1</th>\n",
       "      <td>Bob</td>\n",
       "      <td>30</td>\n",
       "      <td>Male</td>\n",
       "    </tr>\n",
       "  </tbody>\n",
       "</table>\n",
       "</div>"
      ],
      "text/plain": [
       "    Name  Age  Gender\n",
       "0  Alice   25  Female\n",
       "1    Bob   30    Male"
      ]
     },
     "execution_count": 13,
     "metadata": {},
     "output_type": "execute_result"
    }
   ],
   "source": [
    "data_2.head(2) # Example of head() function"
   ]
  },
  {
   "cell_type": "code",
   "execution_count": 14,
   "id": "3021b4b2",
   "metadata": {},
   "outputs": [
    {
     "data": {
      "text/html": [
       "<div>\n",
       "<style scoped>\n",
       "    .dataframe tbody tr th:only-of-type {\n",
       "        vertical-align: middle;\n",
       "    }\n",
       "\n",
       "    .dataframe tbody tr th {\n",
       "        vertical-align: top;\n",
       "    }\n",
       "\n",
       "    .dataframe thead th {\n",
       "        text-align: right;\n",
       "    }\n",
       "</style>\n",
       "<table border=\"1\" class=\"dataframe\">\n",
       "  <thead>\n",
       "    <tr style=\"text-align: right;\">\n",
       "      <th></th>\n",
       "      <th>Name</th>\n",
       "      <th>Age</th>\n",
       "      <th>Gender</th>\n",
       "    </tr>\n",
       "  </thead>\n",
       "  <tbody>\n",
       "    <tr>\n",
       "      <th>2</th>\n",
       "      <td>Claire</td>\n",
       "      <td>27</td>\n",
       "      <td>Female</td>\n",
       "    </tr>\n",
       "  </tbody>\n",
       "</table>\n",
       "</div>"
      ],
      "text/plain": [
       "     Name  Age  Gender\n",
       "2  Claire   27  Female"
      ]
     },
     "execution_count": 14,
     "metadata": {},
     "output_type": "execute_result"
    }
   ],
   "source": [
    "data_2.tail(1) # Example of tail() Function"
   ]
  },
  {
   "cell_type": "markdown",
   "id": "297ca9d2",
   "metadata": {},
   "source": [
    "# Question No : 06"
   ]
  },
  {
   "cell_type": "markdown",
   "id": "1b19743e",
   "metadata": {},
   "source": [
    "In pandas, both Series and DataFrame are mutable in nature, while Panel is immutable.\n",
    "\n",
    "\n",
    "Series: Once created, you can modify the elements of a Series, add new elements, or delete existing ones.\n",
    "\n",
    "\n",
    "DataFrame: Similarly, you can modify the content of a DataFrame, add or remove columns, or change its structure.\n",
    "\n",
    "\n",
    "Panel: Unlike Series and DataFrame, Panel is a three-dimensional data structure, but it has been deprecated since version 0.25.0 of pandas and is considered immutable. You can't modify the content of a Panel once it's created; instead, you would create a new Panel with the desired modifications.\n"
   ]
  },
  {
   "cell_type": "markdown",
   "id": "f9c098c0",
   "metadata": {},
   "source": [
    "# Question No : 07\n"
   ]
  },
  {
   "cell_type": "code",
   "execution_count": 16,
   "id": "57ff36a5",
   "metadata": {},
   "outputs": [
    {
     "name": "stdout",
     "output_type": "stream",
     "text": [
      "   A  B\n",
      "0  1  4\n",
      "1  2  5\n",
      "2  3  6\n",
      "3  4  7\n"
     ]
    }
   ],
   "source": [
    "# crate a DataFrame using multiple Series\n",
    "\n",
    "ser_2 = pd.Series([1,2,3,4])\n",
    "ser_3 = pd.Series([4,5,6,7])\n",
    "\n",
    "data_frame = pd.DataFrame({\"A\":ser_2,\"B\":ser_3})\n",
    "print(data_frame)"
   ]
  },
  {
   "cell_type": "markdown",
   "id": "22aa37e5",
   "metadata": {},
   "source": [
    "In this example, we have two Series, ser_2 and ser_3. ser_1 contains numerical values, and s2 also contains numerical values. We then create a DataFrame data_frame by passing these Series as a dictionary to the pd.DataFrame() constructor, where the keys of the dictionary become the column names of the DataFrame. The resulting DataFrame has two columns, 'A' and 'B', with the values from ser_2 and ser_3, respectively."
   ]
  },
  {
   "cell_type": "code",
   "execution_count": null,
   "id": "a80af874",
   "metadata": {},
   "outputs": [],
   "source": []
  }
 ],
 "metadata": {
  "kernelspec": {
   "display_name": "Python 3 (ipykernel)",
   "language": "python",
   "name": "python3"
  },
  "language_info": {
   "codemirror_mode": {
    "name": "ipython",
    "version": 3
   },
   "file_extension": ".py",
   "mimetype": "text/x-python",
   "name": "python",
   "nbconvert_exporter": "python",
   "pygments_lexer": "ipython3",
   "version": "3.9.13"
  }
 },
 "nbformat": 4,
 "nbformat_minor": 5
}
